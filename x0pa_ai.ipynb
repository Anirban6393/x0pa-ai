{
 "cells": [
  {
   "cell_type": "markdown",
   "id": "ab1eb4fc",
   "metadata": {},
   "source": [
    "### Importing Relevant Libraries, Modules & Datasets"
   ]
  },
  {
   "cell_type": "code",
   "execution_count": 1,
   "id": "0136c9b9",
   "metadata": {},
   "outputs": [
    {
     "name": "stderr",
     "output_type": "stream",
     "text": [
      "[nltk_data] Downloading package punkt to\n",
      "[nltk_data]     C:\\Users\\anirban\\AppData\\Roaming\\nltk_data...\n",
      "[nltk_data]   Package punkt is already up-to-date!\n",
      "[nltk_data] Downloading package wordnet to\n",
      "[nltk_data]     C:\\Users\\anirban\\AppData\\Roaming\\nltk_data...\n",
      "[nltk_data]   Package wordnet is already up-to-date!\n",
      "[nltk_data] Downloading package stopwords to\n",
      "[nltk_data]     C:\\Users\\anirban\\AppData\\Roaming\\nltk_data...\n",
      "[nltk_data]   Package stopwords is already up-to-date!\n"
     ]
    }
   ],
   "source": [
    "from nlp_module.Processor import *\n",
    "from nlp_module.Modelling import *\n",
    "\n",
    "\n",
    "train = pd.read_excel('x0pa_ds_interview_round_2_train.xlsx')\n",
    "test = pd.read_excel('x0pa_ds_interview_round_2_test.xlsx')"
   ]
  },
  {
   "cell_type": "markdown",
   "id": "1d3e7d55",
   "metadata": {},
   "source": [
    "### Text Processing Pipeline"
   ]
  },
  {
   "cell_type": "code",
   "execution_count": 2,
   "id": "3bd3b424",
   "metadata": {},
   "outputs": [],
   "source": [
    "# pipeline object for Tfidf Vectorisor that calls the StemmerTokeniser class, breaks down into bigrams features \n",
    "# that are ultimately normalised\n",
    "pipe = Pipeline([('tfidf',TfidfVectorizer(analyzer='word', tokenizer=StemmerTokenizer(),ngram_range=(1,3), max_df=0.6)), ('norm', Normalizer())])\n",
    "z_train_tfidf = pipe.fit_transform(train['Job Title'])\n",
    "z_test_tfidf = pipe.transform(test['Job Title'])"
   ]
  },
  {
   "cell_type": "code",
   "execution_count": 3,
   "id": "40853652",
   "metadata": {},
   "outputs": [],
   "source": [
    "with open('pipe.pkl', 'wb') as file: \n",
    "    pickle.dump(pipe, file)"
   ]
  },
  {
   "cell_type": "code",
   "execution_count": 4,
   "id": "fc5d8c62",
   "metadata": {},
   "outputs": [
    {
     "name": "stdout",
     "output_type": "stream",
     "text": [
      "(50000, 187249)\n",
      "(20000, 187249)\n"
     ]
    }
   ],
   "source": [
    "print(z_train_tfidf.shape)\n",
    "print(z_test_tfidf.shape)"
   ]
  },
  {
   "cell_type": "markdown",
   "id": "896b6145",
   "metadata": {},
   "source": [
    "### Creating Dictionary of Class Weights To Sensitize Model To Categories Less Common "
   ]
  },
  {
   "cell_type": "code",
   "execution_count": 5,
   "id": "fc2db555",
   "metadata": {},
   "outputs": [
    {
     "data": {
      "text/plain": [
       "<AxesSubplot:>"
      ]
     },
     "execution_count": 5,
     "metadata": {},
     "output_type": "execute_result"
    },
    {
     "data": {
      "image/png": "[encoded data removed]",
      "text/plain": [
       "<Figure size 432x288 with 1 Axes>"
      ]
     },
     "metadata": {
      "needs_background": "light"
     },
     "output_type": "display_data"
    }
   ],
   "source": [
    "train['Type'].value_counts().plot(kind='barh')"
   ]
  },
  {
   "cell_type": "code",
   "execution_count": 6,
   "id": "c099aa84",
   "metadata": {},
   "outputs": [
    {
     "data": {
      "text/html": [
       "<div>\n",
       "<style scoped>\n",
       "    .dataframe tbody tr th:only-of-type {\n",
       "        vertical-align: middle;\n",
       "    }\n",
       "\n",
       "    .dataframe tbody tr th {\n",
       "        vertical-align: top;\n",
       "    }\n",
       "\n",
       "    .dataframe thead th {\n",
       "        text-align: right;\n",
       "    }\n",
       "</style>\n",
       "<table border=\"1\" class=\"dataframe\">\n",
       "  <thead>\n",
       "    <tr style=\"text-align: right;\">\n",
       "      <th></th>\n",
       "      <th>role</th>\n",
       "      <th>ranking</th>\n",
       "    </tr>\n",
       "  </thead>\n",
       "  <tbody>\n",
       "    <tr>\n",
       "      <th>0</th>\n",
       "      <td>Backend Engineer</td>\n",
       "      <td>2.0</td>\n",
       "    </tr>\n",
       "    <tr>\n",
       "      <th>1</th>\n",
       "      <td>Cloud architect</td>\n",
       "      <td>14.0</td>\n",
       "    </tr>\n",
       "    <tr>\n",
       "      <th>2</th>\n",
       "      <td>Customer Support</td>\n",
       "      <td>5.0</td>\n",
       "    </tr>\n",
       "    <tr>\n",
       "      <th>3</th>\n",
       "      <td>Data Analyst</td>\n",
       "      <td>11.0</td>\n",
       "    </tr>\n",
       "    <tr>\n",
       "      <th>4</th>\n",
       "      <td>Data Science</td>\n",
       "      <td>6.0</td>\n",
       "    </tr>\n",
       "    <tr>\n",
       "      <th>5</th>\n",
       "      <td>Database Administration</td>\n",
       "      <td>13.0</td>\n",
       "    </tr>\n",
       "    <tr>\n",
       "      <th>6</th>\n",
       "      <td>Design</td>\n",
       "      <td>7.0</td>\n",
       "    </tr>\n",
       "    <tr>\n",
       "      <th>7</th>\n",
       "      <td>Front End Engineer</td>\n",
       "      <td>10.0</td>\n",
       "    </tr>\n",
       "    <tr>\n",
       "      <th>8</th>\n",
       "      <td>Full Stack Engineer</td>\n",
       "      <td>8.0</td>\n",
       "    </tr>\n",
       "    <tr>\n",
       "      <th>9</th>\n",
       "      <td>Information Security</td>\n",
       "      <td>15.0</td>\n",
       "    </tr>\n",
       "    <tr>\n",
       "      <th>10</th>\n",
       "      <td>Mobile Application Developer</td>\n",
       "      <td>12.0</td>\n",
       "    </tr>\n",
       "    <tr>\n",
       "      <th>11</th>\n",
       "      <td>Network Administration</td>\n",
       "      <td>16.0</td>\n",
       "    </tr>\n",
       "    <tr>\n",
       "      <th>12</th>\n",
       "      <td>Non-IT</td>\n",
       "      <td>1.0</td>\n",
       "    </tr>\n",
       "    <tr>\n",
       "      <th>13</th>\n",
       "      <td>Product Management</td>\n",
       "      <td>4.0</td>\n",
       "    </tr>\n",
       "    <tr>\n",
       "      <th>14</th>\n",
       "      <td>Project Management</td>\n",
       "      <td>3.0</td>\n",
       "    </tr>\n",
       "    <tr>\n",
       "      <th>15</th>\n",
       "      <td>Technical Support</td>\n",
       "      <td>9.0</td>\n",
       "    </tr>\n",
       "  </tbody>\n",
       "</table>\n",
       "</div>"
      ],
      "text/plain": [
       "                            role  ranking\n",
       "0               Backend Engineer      2.0\n",
       "1                Cloud architect     14.0\n",
       "2               Customer Support      5.0\n",
       "3                   Data Analyst     11.0\n",
       "4                   Data Science      6.0\n",
       "5        Database Administration     13.0\n",
       "6                         Design      7.0\n",
       "7             Front End Engineer     10.0\n",
       "8            Full Stack Engineer      8.0\n",
       "9           Information Security     15.0\n",
       "10  Mobile Application Developer     12.0\n",
       "11        Network Administration     16.0\n",
       "12                        Non-IT      1.0\n",
       "13            Product Management      4.0\n",
       "14            Project Management      3.0\n",
       "15             Technical Support      9.0"
      ]
     },
     "execution_count": 6,
     "metadata": {},
     "output_type": "execute_result"
    }
   ],
   "source": [
    "#Rank job categories by occurences of count\n",
    "job_rankings = train.groupby('Type')['id'].count().rank(ascending=False).reset_index().rename(columns= {'id':'ranking','Type':'role'})\n",
    "job_rankings"
   ]
  },
  {
   "cell_type": "code",
   "execution_count": 7,
   "id": "bc6dee2e",
   "metadata": {},
   "outputs": [
    {
     "data": {
      "text/plain": [
       "{'Project Management': 2,\n",
       " 'Database Administration': 5,\n",
       " 'Design': 3,\n",
       " 'Customer Support': 2,\n",
       " 'Front End Engineer': 3,\n",
       " 'Full Stack Engineer': 3,\n",
       " 'Data Analyst': 5,\n",
       " 'Non-IT': 1.0,\n",
       " 'Technical Support': 3,\n",
       " 'Backend Engineer': 2,\n",
       " 'Product Management': 2,\n",
       " 'Data Science': 3,\n",
       " 'Information Security': 5,\n",
       " 'Network Administration': 5,\n",
       " 'Mobile Application Developer': 5,\n",
       " 'Cloud architect': 5}"
      ]
     },
     "execution_count": 7,
     "metadata": {},
     "output_type": "execute_result"
    }
   ],
   "source": [
    "# If classes are underrepresented indicated by ranking based on different threshold/categories, increase dictionary weights\n",
    "class_weights = dict(zip(train['Type'].unique(),np.ones(len(train['Type'].unique()))))\n",
    "\n",
    "for i in job_rankings.itertuples():\n",
    "  if i[2]>10:\n",
    "    class_weights[i[1]]= 5\n",
    "  elif 6<=i[2]<=10:\n",
    "    class_weights[i[1]]= 3\n",
    "  elif 2<=i[2]<=5:\n",
    "    class_weights[i[1]]= 2\n",
    "  \n",
    "class_weights"
   ]
  },
  {
   "cell_type": "markdown",
   "id": "3e5c2dee",
   "metadata": {},
   "source": [
    "### Model Training & Evaluation"
   ]
  },
  {
   "cell_type": "code",
   "execution_count": 8,
   "id": "9a5be6eb",
   "metadata": {},
   "outputs": [
    {
     "data": {
      "text/plain": [
       "SGDClassifier(class_weight={'Backend Engineer': 2, 'Cloud architect': 5,\n",
       "                            'Customer Support': 2, 'Data Analyst': 5,\n",
       "                            'Data Science': 3, 'Database Administration': 5,\n",
       "                            'Design': 3, 'Front End Engineer': 3,\n",
       "                            'Full Stack Engineer': 3, 'Information Security': 5,\n",
       "                            'Mobile Application Developer': 5,\n",
       "                            'Network Administration': 5, 'Non-IT': 1.0,\n",
       "                            'Product Management': 2, 'Project Management': 2,\n",
       "                            'Technical Support': 3},\n",
       "              early_stopping=True, max_iter=200)"
      ]
     },
     "execution_count": 8,
     "metadata": {},
     "output_type": "execute_result"
    }
   ],
   "source": [
    "from sklearn.linear_model import SGDClassifier\n",
    "\n",
    "model = SGDClassifier(max_iter=200, tol=1e-3,class_weight=class_weights,penalty='l2',early_stopping=True)\n",
    "mod = Modelevaluator(model)\n",
    "mod.fit(z_train_tfidf, train['Type'])"
   ]
  },
  {
   "cell_type": "code",
   "execution_count": 9,
   "id": "db100daf",
   "metadata": {},
   "outputs": [
    {
     "data": {
      "image/png": "[encoded data removed]",
      "text/plain": [
       "<Figure size 720x720 with 2 Axes>"
      ]
     },
     "metadata": {
      "needs_background": "light"
     },
     "output_type": "display_data"
    },
    {
     "name": "stdout",
     "output_type": "stream",
     "text": [
      "                              precision    recall  f1-score   support\n",
      "\n",
      "            Backend Engineer       0.99      0.97      0.98      5564\n",
      "             Cloud architect       0.95      0.99      0.97       597\n",
      "            Customer Support       0.98      1.00      0.99      3945\n",
      "                Data Analyst       1.00      0.99      0.99      1300\n",
      "                Data Science       0.97      0.99      0.98      3928\n",
      "     Database Administration       0.98      0.99      0.98       621\n",
      "                      Design       0.99      1.00      1.00      3903\n",
      "          Front End Engineer       0.99      0.97      0.98      1471\n",
      "         Full Stack Engineer       0.95      0.99      0.97      3491\n",
      "        Information Security       0.97      0.98      0.98       527\n",
      "Mobile Application Developer       1.00      0.97      0.98      1234\n",
      "      Network Administration       1.00      1.00      1.00       360\n",
      "                      Non-IT       0.99      0.98      0.99     11130\n",
      "          Product Management       0.98      0.99      0.98      4418\n",
      "          Project Management       0.99      0.99      0.99      5209\n",
      "           Technical Support       0.98      0.98      0.98      2302\n",
      "\n",
      "                    accuracy                           0.98     50000\n",
      "                   macro avg       0.98      0.98      0.98     50000\n",
      "                weighted avg       0.98      0.98      0.98     50000\n",
      "\n"
     ]
    }
   ],
   "source": [
    "mod.confusion_matrix(z_train_tfidf, train['Type'])\n",
    "mod.classification_report(z_train_tfidf, train['Type'])"
   ]
  },
  {
   "cell_type": "code",
   "execution_count": 10,
   "id": "0bad37b2",
   "metadata": {},
   "outputs": [
    {
     "name": "stdout",
     "output_type": "stream",
     "text": [
      "Not Overfitting , mean_train_score: 0.986 , mean_test_score: 0.967\n"
     ]
    }
   ],
   "source": [
    "mod.cross_evaluation(z_train_tfidf, train['Type'], cv_int=5)"
   ]
  },
  {
   "cell_type": "code",
   "execution_count": 11,
   "id": "1f5a9e0b",
   "metadata": {},
   "outputs": [],
   "source": [
    "test['Type'] = mod.make_prediction(z_test_tfidf)\n",
    "test.to_excel('x0pa_ds_interview_round_2_test_predictions.xlsx',index=False)"
   ]
  },
  {
   "cell_type": "code",
   "execution_count": 12,
   "id": "71f81bcd",
   "metadata": {},
   "outputs": [],
   "source": [
    "mod.save_model('sgd_classifier.pkl')"
   ]
  },
  {
   "cell_type": "code",
   "execution_count": 13,
   "id": "3c3d127c",
   "metadata": {},
   "outputs": [],
   "source": [
    "#from sqlalchemy import create_engine\n",
    "#engine = create_engine('sqlite:///pynlp.db', echo=False)\n",
    "#engine.execute('drop table Jobs')"
   ]
  },
  {
   "cell_type": "code",
   "execution_count": null,
   "id": "55017211",
   "metadata": {},
   "outputs": [],
   "source": []
  }
 ],
 "metadata": {
  "kernelspec": {
   "display_name": "Python 3 (ipykernel)",
   "language": "python",
   "name": "python3"
  },
  "language_info": {
   "codemirror_mode": {
    "name": "ipython",
    "version": 3
   },
   "file_extension": ".py",
   "mimetype": "text/x-python",
   "name": "python",
   "nbconvert_exporter": "python",
   "pygments_lexer": "ipython3",
   "version": "3.7.9"
  }
 },
 "nbformat": 4,
 "nbformat_minor": 5
}
